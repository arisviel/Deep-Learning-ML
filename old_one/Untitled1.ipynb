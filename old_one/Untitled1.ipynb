{
 "cells": [
  {
   "cell_type": "code",
   "execution_count": 2,
   "metadata": {},
   "outputs": [
    {
     "name": "stdout",
     "output_type": "stream",
     "text": [
      "-20\n",
      "False\n"
     ]
    }
   ],
   "source": [
    "x=int(input())\n",
    "if -15<x<=12: print(True)\n",
    "elif 14<x<17: print(True)\n",
    "elif 19<=x: print(True)\n",
    "else: print(False)"
   ]
  },
  {
   "cell_type": "code",
   "execution_count": 14,
   "metadata": {},
   "outputs": [
    {
     "name": "stdout",
     "output_type": "stream",
     "text": [
      "5\n",
      "2\n",
      "div\n",
      "2\n"
     ]
    }
   ],
   "source": [
    "x=float(input())\n",
    "y=float(input())\n",
    "op=input(\"\")\n",
    "if op=='+':print(x+y)\n",
    "if op=='-':print(x-y)\n",
    "if op=='/' and y!=0 :print(x/y)\n",
    "if op=='/' and y==0 :print(\"Деление на 0!\")\n",
    "if op=='*': print(x*y)\n",
    "if op=='mod' and y!=0:print(x%y)\n",
    "if op=='mod' and y==0 :print(\"Деление на 0!\")\n",
    "if op=='pow':print(x**y)\n",
    "if op=='div' and y!=0 :print(x//y)\n",
    "if op=='div' and y==0 :print(\"Деление на 0!\")"
   ]
  },
  {
   "cell_type": "code",
   "execution_count": null,
   "metadata": {},
   "outputs": [],
   "source": [
    "ty=input('')\n",
    "if ty=='треугольник': x=True, a,b,c=float(input('')),float(input()),float(input()) \n",
    "p=(a+b+c)/2 \n",
    "S=(p*(p-a)*(p-b)*(p-c))**0.5\n",
    "elif ty=='прямоугольник': y=True a,b=float(input()), float(input())\n",
    "S2=a*b\n",
    "\n",
    "if x: print(S)\n",
    "elif y: print(S2)"
   ]
  },
  {
   "cell_type": "code",
   "execution_count": 25,
   "metadata": {},
   "outputs": [
    {
     "name": "stdout",
     "output_type": "stream",
     "text": [
      "1\n",
      "2\n",
      "2\n"
     ]
    }
   ],
   "source": []
  },
  {
   "cell_type": "code",
   "execution_count": null,
   "metadata": {},
   "outputs": [],
   "source": [
    "ty=input('')\n",
    "if ty=='треугольник': x=True, a,b,c=float(input('')),float(input()),float(input()) \n",
    "p=(a+b+c)/2 \n",
    "S=(p*(p-a)*(p-b)*(p-c))**0.5\n",
    "elif ty=='прямоугольник': y=True a,b=float(input()), float(input())\n",
    "S2=a*b\n",
    "\n",
    "if x: print(S)\n",
    "elif y: print(S2)"
   ]
  },
  {
   "cell_type": "code",
   "execution_count": null,
   "metadata": {},
   "outputs": [],
   "source": []
  }
 ],
 "metadata": {
  "kernelspec": {
   "display_name": "Python 3",
   "language": "python",
   "name": "python3"
  },
  "language_info": {
   "codemirror_mode": {
    "name": "ipython",
    "version": 3
   },
   "file_extension": ".py",
   "mimetype": "text/x-python",
   "name": "python",
   "nbconvert_exporter": "python",
   "pygments_lexer": "ipython3",
   "version": "3.7.3"
  }
 },
 "nbformat": 4,
 "nbformat_minor": 2
}
