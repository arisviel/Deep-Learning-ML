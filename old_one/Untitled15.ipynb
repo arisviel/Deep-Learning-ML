{
 "cells": [
  {
   "cell_type": "code",
   "execution_count": 16,
   "metadata": {},
   "outputs": [
    {
     "name": "stdout",
     "output_type": "stream",
     "text": [
      "*d*%*d*#*d*\n",
      "dacabac"
     ]
    }
   ],
   "source": [
    "a=input()\n",
    "b=input()\n",
    "c=input()\n",
    "d=input()\n",
    "d1={}\n",
    "d2={}\n",
    "for i in range(0,len(a)):\n",
    "    d1[a[i]]=b[i]\n",
    "    d2[b[i]]=a[i]\n",
    "for i in c:\n",
    "    print(d1[i],end='')\n",
    "print()\n",
    "for i in d:\n",
    "    print(d2[i],end='')\n"
   ]
  },
  {
   "cell_type": "code",
   "execution_count": 5,
   "metadata": {},
   "outputs": [
    {
     "data": {
      "text/plain": [
       "'%'"
      ]
     },
     "execution_count": 5,
     "metadata": {},
     "output_type": "execute_result"
    }
   ],
   "source": [
    "d[a[2]]"
   ]
  },
  {
   "cell_type": "code",
   "execution_count": 11,
   "metadata": {},
   "outputs": [
    {
     "data": {
      "text/plain": [
       "dict_keys(['*', 'd', '%', '#'])"
      ]
     },
     "execution_count": 11,
     "metadata": {},
     "output_type": "execute_result"
    }
   ],
   "source": [
    "di.keys()"
   ]
  },
  {
   "cell_type": "code",
   "execution_count": 13,
   "metadata": {},
   "outputs": [
    {
     "data": {
      "text/plain": [
       "dict_values(['a', 'b', 'c', 'd'])"
      ]
     },
     "execution_count": 13,
     "metadata": {},
     "output_type": "execute_result"
    }
   ],
   "source": [
    "di.values()"
   ]
  },
  {
   "cell_type": "code",
   "execution_count": 21,
   "metadata": {},
   "outputs": [
    {
     "name": "stdout",
     "output_type": "stream",
     "text": [
      "3\n",
      "a\n",
      "bb\n",
      "cCc\n",
      "2\n",
      "a bb aab aba ccc\n",
      "c bb aaa\n"
     ]
    }
   ],
   "source": [
    "a=int(input())\n",
    "il=''\n",
    "il2=''\n",
    "for i in range(0,a):\n",
    "    il=il+' '+input().lower()\n",
    "s=il.split()\n",
    "x=int(input())\n",
    "for i in range(0,x):\n",
    "    il2=il2+ ' '+input().lower()\n",
    "s2=set(il2.split())\n",
    "for i in s2:\n",
    "    if not s.count(i):\n",
    "        print(i)   "
   ]
  },
  {
   "cell_type": "code",
   "execution_count": null,
   "metadata": {},
   "outputs": [],
   "source": []
  },
  {
   "cell_type": "code",
   "execution_count": 22,
   "metadata": {},
   "outputs": [
    {
     "data": {
      "text/plain": [
       "['a', 'bb', 'ccc']"
      ]
     },
     "execution_count": 22,
     "metadata": {},
     "output_type": "execute_result"
    }
   ],
   "source": [
    "s"
   ]
  },
  {
   "cell_type": "code",
   "execution_count": 23,
   "metadata": {},
   "outputs": [
    {
     "data": {
      "text/plain": [
       "{'a', 'aaa', 'aab', 'aba', 'bb', 'c', 'ccc'}"
      ]
     },
     "execution_count": 23,
     "metadata": {},
     "output_type": "execute_result"
    }
   ],
   "source": [
    "s2"
   ]
  },
  {
   "cell_type": "code",
   "execution_count": 24,
   "metadata": {},
   "outputs": [
    {
     "name": "stdout",
     "output_type": "stream",
     "text": [
      "c\n",
      "aba\n",
      "aab\n",
      "aaa\n"
     ]
    }
   ],
   "source": [
    "for i in s2:\n",
    "    if not s.count(i):\n",
    "        print(i)"
   ]
  },
  {
   "cell_type": "code",
   "execution_count": 36,
   "metadata": {},
   "outputs": [
    {
     "name": "stdout",
     "output_type": "stream",
     "text": [
      "4\n",
      "север 10\n",
      "запад 20\n",
      "юг 30\n",
      "восток 40\n",
      "20 -20\n"
     ]
    }
   ],
   "source": [
    "l=[input().lower().split() for i in range(int(input()))]\n",
    "n1=0\n",
    "n2=0\n",
    "for i in range(0,len(l)):\n",
    "    if l[i][0].count('север'):\n",
    "        n2=n2+int(l[i][1])\n",
    "    elif l[i][0].count('юг'):\n",
    "        n2=n2-int(l[i][1])\n",
    "    elif l[i][0].count('восток'):\n",
    "        n1=n1+int(l[i][1])\n",
    "    elif l[i][0].count('запад'):\n",
    "        n1=n1-int(l[i][1])\n",
    "print(n1, n2)"
   ]
  },
  {
   "cell_type": "code",
   "execution_count": 29,
   "metadata": {},
   "outputs": [
    {
     "data": {
      "text/plain": [
       "[['qwe', '21'], ['dsfdfg', '23']]"
      ]
     },
     "execution_count": 29,
     "metadata": {},
     "output_type": "execute_result"
    }
   ],
   "source": [
    "l"
   ]
  },
  {
   "cell_type": "code",
   "execution_count": 35,
   "metadata": {},
   "outputs": [
    {
     "data": {
      "text/plain": [
       "['dsfdfg', '23']"
      ]
     },
     "execution_count": 35,
     "metadata": {},
     "output_type": "execute_result"
    }
   ],
   "source": [
    "l[1]"
   ]
  },
  {
   "cell_type": "code",
   "execution_count": 33,
   "metadata": {},
   "outputs": [
    {
     "data": {
      "text/plain": [
       "2"
      ]
     },
     "execution_count": 33,
     "metadata": {},
     "output_type": "execute_result"
    }
   ],
   "source": [
    "len(l)"
   ]
  },
  {
   "cell_type": "code",
   "execution_count": 98,
   "metadata": {},
   "outputs": [
    {
     "name": "stdout",
     "output_type": "stream",
     "text": [
      "3 136.71428571428572\n",
      "9 169.14285714285714\n",
      "5 145.0\n",
      "7 158.0\n",
      "6 152.5\n",
      "4 135.0\n",
      "2 131.0\n",
      "1 126.5\n",
      "10 170.66666666666666\n",
      "8 167.0\n",
      "11 173.71428571428572\n"
     ]
    }
   ],
   "source": [
    "with open('py.txt') as inp:\n",
    "    inlet=inp.read().lower().split()\n",
    "cl1,cl2,cl3,cl4,cl5,cl6,cl7,cl8,cl9,cl10,cl11=0,0,0,0,0,0,0,0,0,0,0\n",
    "d={'8':cl8,'1':cl1,'2':cl2,'3':cl3,'4':cl4,'5':cl5,'6':cl6,'7':cl7,'9':cl9,'10':cl10,'11':cl11}\n",
    "m=set()\n",
    "for i in range(0,(len(inlet)),3):\n",
    "    m.add(inlet[i])\n",
    "sp=list(m)\n",
    "for i in range(0,(len(inlet)),3):\n",
    "    d[inlet[i]]+=int(inlet[i+2])\n",
    "for i in sp:\n",
    "    print(i, d[i]/inlet.count(i))\n",
    "    "
   ]
  },
  {
   "cell_type": "code",
   "execution_count": 95,
   "metadata": {},
   "outputs": [
    {
     "data": {
      "text/plain": [
       "12"
      ]
     },
     "execution_count": 95,
     "metadata": {},
     "output_type": "execute_result"
    }
   ],
   "source": [
    "inlet.count('8')"
   ]
  },
  {
   "cell_type": "code",
   "execution_count": 56,
   "metadata": {},
   "outputs": [
    {
     "data": {
      "text/plain": [
       "0"
      ]
     },
     "execution_count": 56,
     "metadata": {},
     "output_type": "execute_result"
    }
   ],
   "source": [
    "len(inlet)%3"
   ]
  },
  {
   "cell_type": "code",
   "execution_count": 70,
   "metadata": {},
   "outputs": [
    {
     "data": {
      "text/plain": [
       "2848"
      ]
     },
     "execution_count": 70,
     "metadata": {},
     "output_type": "execute_result"
    }
   ],
   "source": [
    "d['3']"
   ]
  },
  {
   "cell_type": "code",
   "execution_count": 65,
   "metadata": {},
   "outputs": [
    {
     "data": {
      "text/plain": [
       "1"
      ]
     },
     "execution_count": 65,
     "metadata": {},
     "output_type": "execute_result"
    }
   ],
   "source": []
  },
  {
   "cell_type": "code",
   "execution_count": 100,
   "metadata": {},
   "outputs": [
    {
     "data": {
      "text/plain": [
       "[0, 1, 2]"
      ]
     },
     "execution_count": 100,
     "metadata": {},
     "output_type": "execute_result"
    }
   ],
   "source": [
    "list(range(3))"
   ]
  },
  {
   "cell_type": "code",
   "execution_count": 101,
   "metadata": {},
   "outputs": [
    {
     "name": "stdout",
     "output_type": "stream",
     "text": [
      "o\n"
     ]
    }
   ],
   "source": [
    "text = 'hello'\n",
    "\n",
    "print(text[4:100])"
   ]
  },
  {
   "cell_type": "code",
   "execution_count": 103,
   "metadata": {},
   "outputs": [
    {
     "ename": "SyntaxError",
     "evalue": "illegal target for annotation (<ipython-input-103-03ff8d2ef2ab>, line 1)",
     "output_type": "error",
     "traceback": [
      "\u001b[1;36m  File \u001b[1;32m\"<ipython-input-103-03ff8d2ef2ab>\"\u001b[1;36m, line \u001b[1;32m1\u001b[0m\n\u001b[1;33m    4:100\u001b[0m\n\u001b[1;37m         ^\u001b[0m\n\u001b[1;31mSyntaxError\u001b[0m\u001b[1;31m:\u001b[0m illegal target for annotation\n"
     ]
    }
   ],
   "source": [
    "4:100"
   ]
  },
  {
   "cell_type": "code",
   "execution_count": 112,
   "metadata": {},
   "outputs": [
    {
     "name": "stdout",
     "output_type": "stream",
     "text": [
      "Спартак;1;ЦСКА;1\n",
      "Зенит;3;Спартак;1\n"
     ]
    }
   ],
   "source": [
    "n=int(input())\n",
    "s=set()\n",
    "d=dict{}\n",
    "for i in range(0,n):\n",
    "    l=(input().split(';'))\n",
    "    if l[0] not in d:\n",
    "        lot.append(lin[0], 0, 0, 0, 0, 0)\n",
    "l.append(input().split(';'))"
   ]
  },
  {
   "cell_type": "code",
   "execution_count": 113,
   "metadata": {},
   "outputs": [
    {
     "data": {
      "text/plain": [
       "[['Спартак', '1', 'ЦСКА', '1'], ['Зенит', '3', 'Спартак', '1']]"
      ]
     },
     "execution_count": 113,
     "metadata": {},
     "output_type": "execute_result"
    }
   ],
   "source": [
    "l"
   ]
  },
  {
   "cell_type": "code",
   "execution_count": 122,
   "metadata": {},
   "outputs": [],
   "source": [
    "d={'Спартак':[0,0,0,0,0],'ртак':[0,0,0,0,0] }"
   ]
  },
  {
   "cell_type": "code",
   "execution_count": 143,
   "metadata": {},
   "outputs": [
    {
     "ename": "TypeError",
     "evalue": "unsupported operand type(s) for +=: 'dict' and 'int'",
     "output_type": "error",
     "traceback": [
      "\u001b[1;31m---------------------------------------------------------------------------\u001b[0m",
      "\u001b[1;31mTypeError\u001b[0m                                 Traceback (most recent call last)",
      "\u001b[1;32m<ipython-input-143-6345cfcd02c9>\u001b[0m in \u001b[0;36m<module>\u001b[1;34m\u001b[0m\n\u001b[1;32m----> 1\u001b[1;33m \u001b[0md\u001b[0m\u001b[1;33m+=\u001b[0m\u001b[0md\u001b[0m\u001b[1;33m[\u001b[0m\u001b[1;34m'Спартак'\u001b[0m\u001b[1;33m]\u001b[0m\u001b[1;33m[\u001b[0m\u001b[1;36m2\u001b[0m\u001b[1;33m]\u001b[0m\u001b[1;33m+\u001b[0m\u001b[1;36m1\u001b[0m\u001b[1;33m\u001b[0m\u001b[1;33m\u001b[0m\u001b[0m\n\u001b[0m",
      "\u001b[1;31mTypeError\u001b[0m: unsupported operand type(s) for +=: 'dict' and 'int'"
     ]
    }
   ],
   "source": [
    "d+=d['Спартак'][2]+1"
   ]
  },
  {
   "cell_type": "code",
   "execution_count": 140,
   "metadata": {},
   "outputs": [
    {
     "data": {
      "text/plain": [
       "0"
      ]
     },
     "execution_count": 140,
     "metadata": {},
     "output_type": "execute_result"
    }
   ],
   "source": [
    "d['Спартак'][2]"
   ]
  },
  {
   "cell_type": "code",
   "execution_count": null,
   "metadata": {},
   "outputs": [],
   "source": [
    "games = int(input())\n",
    "tom_game = {}\n",
    "tom_win = {}\n",
    "tom_mid = {}\n",
    "tom_lose = {}\n",
    "tom_all = {}\n",
    "mas = []\n",
    "i = 0\n",
    "while (i < games):\n",
    "    game = input()\n",
    "    mas += [game] \n",
    "    i += 1\n",
    "i = 0\n",
    "while (i < games):\n",
    "    l = len(mas[i])\n",
    "    j = 0\n",
    "    first_team = -1\n",
    "    second_team = -1\n",
    "    name_f = ''\n",
    "    while (j < l):\n",
    "        name = ''\n",
    "        score = ''\n",
    "        while (j < l and mas[i][j] != ';'):\n",
    "            name += mas[i][j]\n",
    "            j += 1\n",
    "        if name not in tom_game:\n",
    "            tom_game[name] = 1\n",
    "            tom_win[name] = 0\n",
    "            tom_mid[name] = 0\n",
    "            tom_lose[name] = 0\n",
    "            tom_all[name] = 0\n",
    "        else:\n",
    "            tom_game[name] += 1\n",
    "        j += 1\n",
    "        while (j < l and mas[i][j] != ';'):\n",
    "            score += mas[i][j]\n",
    "            j += 1\n",
    "        if first_team == -1:\n",
    "            first_team = int(score)\n",
    "            name_f = name\n",
    "        else:\n",
    "            second_team = int(score)\n",
    "        j += 1\n",
    "    if (first_team > second_team):\n",
    "        tom_win[name_f] += 1\n",
    "        tom_all[name_f] += 3\n",
    "        tom_lose[name] += 1\n",
    "    elif (first_team == second_team):\n",
    "        tom_mid[name] += 1\n",
    "        tom_all[name] += 1\n",
    "        tom_mid[name_f] += 1\n",
    "        tom_all[name_f] += 1\n",
    "    else:\n",
    "        tom_win[name] += 1\n",
    "        tom_all[name] += 3\n",
    "        tom_lose[name_f] += 1\n",
    "    i += 1\n",
    "for key, value in tom_game.items():\n",
    "    print(key,end=':')\n",
    "    print(value, tom_win[key],\\\n",
    "    tom_mid[key], tom_lose[key], tom_all[key])"
   ]
  }
 ],
 "metadata": {
  "kernelspec": {
   "display_name": "Python 3",
   "language": "python",
   "name": "python3"
  },
  "language_info": {
   "codemirror_mode": {
    "name": "ipython",
    "version": 3
   },
   "file_extension": ".py",
   "mimetype": "text/x-python",
   "name": "python",
   "nbconvert_exporter": "python",
   "pygments_lexer": "ipython3",
   "version": "3.7.3"
  }
 },
 "nbformat": 4,
 "nbformat_minor": 2
}
