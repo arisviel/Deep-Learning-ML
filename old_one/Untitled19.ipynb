{
 "cells": [
  {
   "cell_type": "code",
   "execution_count": 12,
   "metadata": {},
   "outputs": [
    {
     "name": "stdout",
     "output_type": "stream",
     "text": [
      "Задание успешно выполнено!\n"
     ]
    }
   ],
   "source": [
    "class Neuron:\n",
    "    def __init__(self, w, f = lambda x: x):\n",
    "        self.w=w\n",
    "        self.f=f\n",
    "        self.sum=0\n",
    "    def forward(self, x):\n",
    "        self.x=x\n",
    "        for i in range(len(self.x)):\n",
    "            self.sum+=self.w[i]*self.x[i]\n",
    "        return self.f(self.sum)\n",
    "    def backlog(self):\n",
    "        self.x\n",
    "        return self.x\n",
    "    \n",
    "def Test():\n",
    "    test_neuron = Neuron([2, 3, 4, 5, 6], lambda x: x*x)\n",
    "    if (test_neuron.forward([1, 2, 3, 4, 5]) == 4900 and test_neuron.backlog() == [1, 2, 3, 4, 5]):\n",
    "        print(\"Задание успешно выполнено!\")\n",
    "    else:\n",
    "        print(\"Ошибка в решении!\")\n",
    "    \n",
    "Test()"
   ]
  },
  {
   "cell_type": "code",
   "execution_count": 13,
   "metadata": {},
   "outputs": [
    {
     "data": {
      "text/plain": [
       "120"
      ]
     },
     "execution_count": 13,
     "metadata": {},
     "output_type": "execute_result"
    }
   ],
   "source": [
    "test_neuron = Neuron([2, 3, 4, 5, 6], lambda x: x*2)\n",
    "test_neuron.forward([1, 2, 3, 2, 5])"
   ]
  },
  {
   "cell_type": "code",
   "execution_count": 14,
   "metadata": {},
   "outputs": [
    {
     "data": {
      "text/plain": [
       "[1, 2, 3, 2, 5]"
      ]
     },
     "execution_count": 14,
     "metadata": {},
     "output_type": "execute_result"
    }
   ],
   "source": [
    "test_neuron.backlog()"
   ]
  },
  {
   "cell_type": "code",
   "execution_count": null,
   "metadata": {},
   "outputs": [],
   "source": []
  }
 ],
 "metadata": {
  "kernelspec": {
   "display_name": "Python 3",
   "language": "python",
   "name": "python3"
  },
  "language_info": {
   "codemirror_mode": {
    "name": "ipython",
    "version": 3
   },
   "file_extension": ".py",
   "mimetype": "text/x-python",
   "name": "python",
   "nbconvert_exporter": "python",
   "pygments_lexer": "ipython3",
   "version": "3.7.3"
  }
 },
 "nbformat": 4,
 "nbformat_minor": 2
}
