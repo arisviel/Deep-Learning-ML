{
 "cells": [
  {
   "cell_type": "code",
   "execution_count": null,
   "metadata": {},
   "outputs": [],
   "source": [
    "ty=input('')\n",
    "if ty=='треугольник': a,b,c=float(input('')),float(input()),float(input()) \n",
    "elif ty=='прямоугольник': a,b=float(input('')),float(input(''))\n",
    "p=(a+b+c)/2 \n",
    "S=(p*(p-a)*(p-b)*(p-c))**0.5\n",
    "S2=a*b\n",
    "if x: print(S)\n",
    "elif y: print(S2)\n",
    "    "
   ]
  },
  {
   "cell_type": "code",
   "execution_count": 15,
   "metadata": {},
   "outputs": [
    {
     "name": "stdout",
     "output_type": "stream",
     "text": [
      "3\n"
     ]
    }
   ],
   "source": []
  },
  {
   "cell_type": "code",
   "execution_count": null,
   "metadata": {},
   "outputs": [],
   "source": [
    "ty=input('')\n",
    "if ty=='треугольник': a,b,c=float(input('')),float(input()),float(input()) \n",
    "elif ty=='прямоугольник': a,b=float(input('')),float(input(''))\n",
    "p=(a+b+c)/2 \n",
    "S=(p*(p-a)*(p-b)*(p-c))**0.5\n",
    "S2=a*b\n",
    "if x: print(S)\n",
    "elif y: print(S2)"
   ]
  },
  {
   "cell_type": "code",
   "execution_count": null,
   "metadata": {},
   "outputs": [],
   "source": []
  }
 ],
 "metadata": {
  "kernelspec": {
   "display_name": "Python 3",
   "language": "python",
   "name": "python3"
  },
  "language_info": {
   "codemirror_mode": {
    "name": "ipython",
    "version": 3
   },
   "file_extension": ".py",
   "mimetype": "text/x-python",
   "name": "python",
   "nbconvert_exporter": "python",
   "pygments_lexer": "ipython3",
   "version": "3.7.3"
  }
 },
 "nbformat": 4,
 "nbformat_minor": 2
}
