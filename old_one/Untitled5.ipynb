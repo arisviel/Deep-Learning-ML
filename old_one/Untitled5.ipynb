{
 "cells": [
  {
   "cell_type": "code",
   "execution_count": 3,
   "metadata": {},
   "outputs": [
    {
     "name": "stdout",
     "output_type": "stream",
     "text": [
      "треугольник\n",
      "3\n",
      "4\n",
      "5\n",
      "6.0\n"
     ]
    }
   ],
   "source": [
    "ty=input('')\n",
    "if ty=='треугольник':\n",
    "    a,b,c=float(input('')),float(input()),float(input())\n",
    "    p=(a+b+c)/2\n",
    "    S=(p*(p-a)*(p-b)*(p-c))**0.5\n",
    "    print(S)\n",
    "elif ty=='прямоугольник':\n",
    "    a,b=float(input('')),float(input(''))\n",
    "    S=a*b\n",
    "    print(S)\n",
    "elif ty=='круг':\n",
    "    r=float(input())\n",
    "    S=3.14*r**2\n",
    "    print(S)"
   ]
  },
  {
   "cell_type": "code",
   "execution_count": 14,
   "metadata": {},
   "outputs": [
    {
     "name": "stdout",
     "output_type": "stream",
     "text": [
      "8\n",
      "2\n",
      "14\n",
      "14\n",
      "2\n",
      "8\n"
     ]
    }
   ],
   "source": [
    "a,b,c=int(input()),int(input()),int(input())\n",
    "x=False\n",
    "y=False\n",
    "z=False\n",
    "if a>=b and a>=c:\n",
    "    x=True\n",
    "    print(a)\n",
    "elif b>=a and b>=c:\n",
    "    y=True\n",
    "    print(b)\n",
    "elif c>=a and c>=b:\n",
    "    z=True\n",
    "    print(c)\n",
    "if x==True and b>=c:\n",
    "    print(c)\n",
    "    print(b)\n",
    "elif x==True:\n",
    "    print(b)\n",
    "    print(c)\n",
    "if y==True and a>=c:\n",
    "    print(c)\n",
    "    print(a)\n",
    "elif y==True:\n",
    "    print(a)\n",
    "    print(c)\n",
    "if z==True and a>=b:\n",
    "    print(b)\n",
    "    print(a)\n",
    "elif z==True:\n",
    "    print(a)\n",
    "    print(b)"
   ]
  },
  {
   "cell_type": "code",
   "execution_count": 10,
   "metadata": {},
   "outputs": [],
   "source": [
    "x=False\n",
    "if x==True:\n",
    "    print(x)"
   ]
  },
  {
   "cell_type": "code",
   "execution_count": 41,
   "metadata": {},
   "outputs": [
    {
     "name": "stdout",
     "output_type": "stream",
     "text": [
      "122\n",
      "122 программиста\n"
     ]
    }
   ],
   "source": [
    "n=int(input())\n",
    "if n==0 or n%10==0:\n",
    "    print(n, 'программистов')\n",
    "elif n==1 or n%10==1 and ((int(n/10))%10)!=1: \n",
    "    print(n, 'программист')\n",
    "elif 2<=n<=4 or 2<=n%10<=4 and ((int(n/10))%10)!=1:\n",
    "    print(n, 'программиста')\n",
    "else:\n",
    "    print(n, 'программистов')"
   ]
  },
  {
   "cell_type": "code",
   "execution_count": 25,
   "metadata": {},
   "outputs": [
    {
     "data": {
      "text/plain": [
       "4"
      ]
     },
     "execution_count": 25,
     "metadata": {},
     "output_type": "execute_result"
    }
   ],
   "source": [
    "904%10"
   ]
  },
  {
   "cell_type": "code",
   "execution_count": 28,
   "metadata": {},
   "outputs": [
    {
     "name": "stdout",
     "output_type": "stream",
     "text": [
      "5\n",
      "0.5\n"
     ]
    }
   ],
   "source": [
    "n=int(input())\n",
    "print(n/10)"
   ]
  },
  {
   "cell_type": "code",
   "execution_count": 29,
   "metadata": {},
   "outputs": [
    {
     "data": {
      "text/plain": [
       "1"
      ]
     },
     "execution_count": 29,
     "metadata": {},
     "output_type": "execute_result"
    }
   ],
   "source": [
    "1%10"
   ]
  },
  {
   "cell_type": "code",
   "execution_count": 36,
   "metadata": {},
   "outputs": [
    {
     "ename": "SyntaxError",
     "evalue": "can't assign to operator (<ipython-input-36-93c64db2b095>, line 3)",
     "output_type": "error",
     "traceback": [
      "\u001b[1;36m  File \u001b[1;32m\"<ipython-input-36-93c64db2b095>\"\u001b[1;36m, line \u001b[1;32m3\u001b[0m\n\u001b[1;33m    n%10=1\u001b[0m\n\u001b[1;37m          ^\u001b[0m\n\u001b[1;31mSyntaxError\u001b[0m\u001b[1;31m:\u001b[0m can't assign to operator\n"
     ]
    }
   ],
   "source": [
    "n=11\n",
    "((int(n/10))%10)!=1\n",
    "n%10=1"
   ]
  },
  {
   "cell_type": "code",
   "execution_count": 42,
   "metadata": {},
   "outputs": [
    {
     "name": "stdout",
     "output_type": "stream",
     "text": [
      "112\n",
      "112 программистов\n"
     ]
    }
   ],
   "source": [
    "n=int(input())\n",
    "print(n,'программист'+('ов' if n%10==0 or 4<n%10<10 or 10<n%100<15 else 'а' if 1<n%10<5 else ''))\n"
   ]
  },
  {
   "cell_type": "code",
   "execution_count": 67,
   "metadata": {},
   "outputs": [
    {
     "name": "stdout",
     "output_type": "stream",
     "text": [
      "124007\n",
      "Счастливый\n"
     ]
    }
   ],
   "source": [
    "n=int(input())\n",
    "if n%10+int(n%100/10)+int(n%1000/100) == int(n%10000/1000)+int(n%100000/10000)+int(n%1000000/100000):\n",
    "    print('Счастливый')\n",
    "else:\n",
    "    print('Обычный')\n"
   ]
  },
  {
   "cell_type": "code",
   "execution_count": 56,
   "metadata": {},
   "outputs": [
    {
     "name": "stdout",
     "output_type": "stream",
     "text": [
      "4.4\n"
     ]
    }
   ],
   "source": [
    "print(90244%100/10)"
   ]
  },
  {
   "cell_type": "code",
   "execution_count": 65,
   "metadata": {},
   "outputs": [
    {
     "data": {
      "text/plain": [
       "4"
      ]
     },
     "execution_count": 65,
     "metadata": {},
     "output_type": "execute_result"
    }
   ],
   "source": [
    "n=124007\n",
    "int(n%10000/1000)\n",
    "int(n%100000/10000)\n",
    "int(n%10000/1000)"
   ]
  },
  {
   "cell_type": "code",
   "execution_count": 68,
   "metadata": {},
   "outputs": [
    {
     "name": "stdout",
     "output_type": "stream",
     "text": [
      "123007\n"
     ]
    }
   ],
   "source": [
    "a, b, c, d, e, f = input()\n"
   ]
  },
  {
   "cell_type": "code",
   "execution_count": null,
   "metadata": {},
   "outputs": [],
   "source": []
  }
 ],
 "metadata": {
  "kernelspec": {
   "display_name": "Python 3",
   "language": "python",
   "name": "python3"
  },
  "language_info": {
   "codemirror_mode": {
    "name": "ipython",
    "version": 3
   },
   "file_extension": ".py",
   "mimetype": "text/x-python",
   "name": "python",
   "nbconvert_exporter": "python",
   "pygments_lexer": "ipython3",
   "version": "3.7.3"
  }
 },
 "nbformat": 4,
 "nbformat_minor": 2
}
