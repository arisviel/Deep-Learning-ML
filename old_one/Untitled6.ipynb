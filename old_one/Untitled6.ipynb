{
 "cells": [
  {
   "cell_type": "code",
   "execution_count": 8,
   "metadata": {},
   "outputs": [
    {
     "name": "stdout",
     "output_type": "stream",
     "text": [
      "-5\n",
      "12\n",
      "4.5\n"
     ]
    }
   ],
   "source": [
    "a=int(input())\n",
    "b=int(input())\n",
    "s=0\n",
    "y=0\n",
    "for i in range(a,b+1):\n",
    "    if i%3==0:\n",
    "        s+=i\n",
    "        y+=1\n",
    "print(s/y)"
   ]
  },
  {
   "cell_type": "code",
   "execution_count": 22,
   "metadata": {},
   "outputs": [
    {
     "name": "stdout",
     "output_type": "stream",
     "text": [
      "ggcSADcGHHHHHH\n",
      "0.35714285714285715\n"
     ]
    }
   ],
   "source": [
    "a=input()\n",
    "print((a.upper().count('G')+a.upper().count('C'))/len(a)*100)\n",
    "\n"
   ]
  },
  {
   "cell_type": "code",
   "execution_count": 25,
   "metadata": {},
   "outputs": [
    {
     "name": "stdout",
     "output_type": "stream",
     "text": [
      "caggtggac\n",
      "true\n"
     ]
    }
   ],
   "source": [
    "a=input()\n",
    "if a==a[::-1]:\n",
    "    print('true')\n",
    "else: print('false')"
   ]
  },
  {
   "cell_type": "code",
   "execution_count": 27,
   "metadata": {},
   "outputs": [
    {
     "name": "stdout",
     "output_type": "stream",
     "text": [
      "qwerty\n",
      "5\n"
     ]
    }
   ],
   "source": [
    "a=input()\n",
    "print(len(a)-1)"
   ]
  },
  {
   "cell_type": "code",
   "execution_count": 34,
   "metadata": {},
   "outputs": [
    {
     "name": "stdout",
     "output_type": "stream",
     "text": [
      "abcde\n"
     ]
    }
   ],
   "source": [
    "s='abcdefghijk'\n",
    "print(s[:-6])"
   ]
  },
  {
   "cell_type": "code",
   "execution_count": 12,
   "metadata": {},
   "outputs": [
    {
     "name": "stdout",
     "output_type": "stream",
     "text": [
      "aa\n",
      "a2"
     ]
    }
   ],
   "source": [
    "s=input()\n",
    "i=0\n",
    "j=1\n",
    "z=1\n",
    "x=len(s)\n",
    "while i<x:\n",
    "    if x>1:\n",
    "        while s[i]==s[j] and i!=j:\n",
    "            i+=1\n",
    "            j+=1\n",
    "            z+=1\n",
    "            if j>len(s)-1:\n",
    "                break\n",
    "    if z!=1:\n",
    "        print(s[i],z,sep='',end='')\n",
    "        i+=1\n",
    "        if j<len(s)-1:\n",
    "            j+=1\n",
    "        z=1\n",
    "    else:\n",
    "        print(s[i],z,sep='',end='')\n",
    "        i+=1\n",
    "        if j<len(s)-1:\n",
    "            j+=1"
   ]
  },
  {
   "cell_type": "code",
   "execution_count": 3,
   "metadata": {},
   "outputs": [
    {
     "ename": "SyntaxError",
     "evalue": "invalid syntax (<ipython-input-3-2dada51d1ad1>, line 5)",
     "output_type": "error",
     "traceback": [
      "\u001b[1;36m  File \u001b[1;32m\"<ipython-input-3-2dada51d1ad1>\"\u001b[1;36m, line \u001b[1;32m5\u001b[0m\n\u001b[1;33m    while i<\u001b[0m\n\u001b[1;37m            ^\u001b[0m\n\u001b[1;31mSyntaxError\u001b[0m\u001b[1;31m:\u001b[0m invalid syntax\n"
     ]
    }
   ],
   "source": [
    "s=input()\n",
    "i=0\n",
    "j=1\n",
    "z=1\n",
    "while i<\n",
    "while s[i]==s[j]:\n",
    "    i+=1\n",
    "    j+=1\n",
    "    z+=1\n",
    "if z!=1:\n",
    "    print(s[i],z)\n",
    "    z=0\n",
    "else:\n",
    "    print(s[i])\n",
    "    i+=1\n",
    "    j+=1"
   ]
  },
  {
   "cell_type": "code",
   "execution_count": 14,
   "metadata": {},
   "outputs": [
    {
     "name": "stdout",
     "output_type": "stream",
     "text": [
      "a\n",
      "a1"
     ]
    }
   ],
   "source": [
    "genome = input()+' '\n",
    "s = 0\n",
    "n=genome[0]\n",
    "for i in genome:       \n",
    "    if n!=i:\n",
    "        print(n + str(s), end = '')\n",
    "        s=0\n",
    "        n=i\n",
    "    s+=1"
   ]
  },
  {
   "cell_type": "code",
   "execution_count": 15,
   "metadata": {},
   "outputs": [
    {
     "name": "stdout",
     "output_type": "stream",
     "text": [
      "0\n"
     ]
    }
   ],
   "source": [
    "l=['a', 'c', 'a', 'b']\n",
    "print(l.index('a'))"
   ]
  },
  {
   "cell_type": "code",
   "execution_count": 18,
   "metadata": {},
   "outputs": [
    {
     "name": "stdout",
     "output_type": "stream",
     "text": [
      "4 -1 9 3\n",
      "15\n"
     ]
    }
   ],
   "source": [
    "l=[int(i) for i in input().split()]\n",
    "s=0\n",
    "for j in l:\n",
    "    s=j+s\n",
    "print(s)"
   ]
  },
  {
   "cell_type": "code",
   "execution_count": 53,
   "metadata": {},
   "outputs": [
    {
     "name": "stdout",
     "output_type": "stream",
     "text": [
      "1 2 3 1 2\n",
      "[4, 2, 3, 4, 2]\n"
     ]
    }
   ],
   "source": [
    "l=[int(i) for i in input().split()]\n",
    "e=[]\n",
    "y=len(l)\n",
    "for x in l:\n",
    "    if len(l)==1:\n",
    "        e+=(l)\n",
    "    elif l[0]==x and y!=2:\n",
    "        e+=[(l[1]+l[len(l)-1])]\n",
    "    elif l[len(l)-1]==x and y!=2:\n",
    "        e+=[(l[len(l)-2]+l[0])]\n",
    "    elif y==2:\n",
    "        e+=[(l[0]+l[1])]\n",
    "    else:\n",
    "        e+=[(l[x-2]+l[x])]\n",
    "print(e)"
   ]
  },
  {
   "cell_type": "code",
   "execution_count": 25,
   "metadata": {},
   "outputs": [
    {
     "name": "stdout",
     "output_type": "stream",
     "text": [
      "1\n",
      "1\n"
     ]
    }
   ],
   "source": [
    "l=[int(i) for i in input().split()]\n",
    "e=[]\n",
    "print(len(l))"
   ]
  },
  {
   "cell_type": "code",
   "execution_count": 12,
   "metadata": {},
   "outputs": [
    {
     "name": "stdout",
     "output_type": "stream",
     "text": [
      "2 3\n"
     ]
    }
   ],
   "source": [
    "list=[int(i) for i in input().split()]\n",
    "list.sort()\n",
    "z=0\n",
    "j=1\n",
    "i=0\n",
    "while i<len(list)-1:\n",
    "    if len(list)>1:\n",
    "        while list[i]==list[i+1]:\n",
    "            i+=1\n",
    "            z+=1\n",
    "            if i>len(list)-2:\n",
    "                break\n",
    "    if z>0:\n",
    "        print(list[i],sep=' ',end=' ')\n",
    "        i+=1\n",
    "        z=0\n",
    "    else:\n",
    "        i+=1\n",
    "        \n"
   ]
  },
  {
   "cell_type": "code",
   "execution_count": null,
   "metadata": {},
   "outputs": [],
   "source": [
    "a=int(input())\n",
    "b=int(input())\n",
    "c=int(input())\n",
    "d=int(input())\n",
    "print('\\t',range(c,d+1))"
   ]
  },
  {
   "cell_type": "code",
   "execution_count": 3,
   "metadata": {},
   "outputs": [
    {
     "name": "stdout",
     "output_type": "stream",
     "text": [
      "False\n"
     ]
    }
   ],
   "source": [
    "a = True\n",
    "b = False\n",
    "print(a and b or not a and not b)"
   ]
  },
  {
   "cell_type": "code",
   "execution_count": 9,
   "metadata": {},
   "outputs": [
    {
     "name": "stdout",
     "output_type": "stream",
     "text": [
      "2000\n",
      "Високосный\n"
     ]
    }
   ],
   "source": [
    "A=int(input())\n",
    "if A%4==0 and A%100!=0 or A%400==0:\n",
    "    print('Високосный')\n",
    "else: print('Обычный')"
   ]
  },
  {
   "cell_type": "code",
   "execution_count": 10,
   "metadata": {},
   "outputs": [
    {
     "data": {
      "text/plain": [
       "'12342'"
      ]
     },
     "execution_count": 10,
     "metadata": {},
     "output_type": "execute_result"
    }
   ],
   "source": [
    "\"123\" + \"42\""
   ]
  },
  {
   "cell_type": "code",
   "execution_count": 10,
   "metadata": {},
   "outputs": [
    {
     "name": "stdout",
     "output_type": "stream",
     "text": [
      "1\n",
      "end\n",
      "4 \n"
     ]
    }
   ],
   "source": [
    "a = []\n",
    "b = []\n",
    "z=0\n",
    "y=0\n",
    "while True:\n",
    "    b = input().split()\n",
    "    if b != ['end']:\n",
    "        b = [int(i) for i in b]\n",
    "        a.append(b)\n",
    "    else:\n",
    "        break\n",
    "stroki=len(a)\n",
    "stolbci=len(a[0])\n",
    "for i in range(stroki):\n",
    "    for j in range(stolbci):\n",
    "        for di in range(-1,2,2):\n",
    "            z+=a[(i+di)%stroki][j]\n",
    "        for dj in range(-1,2,2):\n",
    "            y+=a[i][(j+dj)%stolbci]\n",
    "        print(z+y,end=\" \")\n",
    "        z=0\n",
    "        y=0\n",
    "    print()\n"
   ]
  },
  {
   "cell_type": "code",
   "execution_count": 20,
   "metadata": {},
   "outputs": [
    {
     "data": {
      "text/plain": [
       "4"
      ]
     },
     "execution_count": 20,
     "metadata": {},
     "output_type": "execute_result"
    }
   ],
   "source": [
    "c=[[1, 2, 3, 4], [9, 9, 9]]\n",
    "len(c[0])"
   ]
  },
  {
   "cell_type": "code",
   "execution_count": 25,
   "metadata": {},
   "outputs": [
    {
     "data": {
      "text/plain": [
       "['end']"
      ]
     },
     "execution_count": 25,
     "metadata": {},
     "output_type": "execute_result"
    }
   ],
   "source": [
    "# put your python code here\n",
    "numbers = [int(i) for i in input().split()]\n",
    "if len(numbers) == 1:\n",
    "    print(numbers[0])\n",
    "else:\n",
    "    for i in range(len(numbers)):\n",
    "        print(numbers[i - 1] + numbers[(i + 1) % len(numbers)], end=\" \")"
   ]
  },
  {
   "cell_type": "code",
   "execution_count": 7,
   "metadata": {},
   "outputs": [
    {
     "data": {
      "text/plain": [
       "0"
      ]
     },
     "execution_count": 7,
     "metadata": {},
     "output_type": "execute_result"
    }
   ],
   "source": [
    "-1%1"
   ]
  },
  {
   "cell_type": "code",
   "execution_count": null,
   "metadata": {},
   "outputs": [],
   "source": [
    "n=int(input())\n",
    "a = [[0 for j in range(n)] for i in range(n)]\n",
    "i=0\n",
    "h=0\n",
    "m=n\n",
    "while h!=m**2:\n",
    "    for j in range(n):\n",
    "        h+=1\n",
    "        a[i][j]=h\n",
    "    for i in range(n):\n",
    "        h+=1\n",
    "        a[i][j]=h\n",
    "    for k in range(n):\n",
    "        h+=1\n",
    "        j-=k\n",
    "        a[i][j]=h\n",
    "    for o in range(n):\n",
    "        h+=1\n",
    "        i-=o\n",
    "        a[i][j]=h\n",
    "    n-=1"
   ]
  },
  {
   "cell_type": "code",
   "execution_count": 14,
   "metadata": {},
   "outputs": [
    {
     "data": {
      "text/plain": [
       "[[0, 0, 0, 0, 0],\n",
       " [0, 0, 0, 0, 0],\n",
       " [0, 0, 0, 0, 0],\n",
       " [0, 0, 0, 0, 0],\n",
       " [0, 0, 0, 0, 0]]"
      ]
     },
     "execution_count": 14,
     "metadata": {},
     "output_type": "execute_result"
    }
   ],
   "source": [
    "a"
   ]
  },
  {
   "cell_type": "code",
   "execution_count": null,
   "metadata": {},
   "outputs": [],
   "source": [
    "h=0\n",
    "n=5\n",
    "while h!=n**2:\n",
    "    m=n\n",
    "    for j in range(n):\n",
    "        h+=1\n",
    "        n-=1\n",
    "print(n)"
   ]
  },
  {
   "cell_type": "code",
   "execution_count": 6,
   "metadata": {},
   "outputs": [
    {
     "name": "stdout",
     "output_type": "stream",
     "text": [
      "5\n",
      "1 2 3 4 5 \n",
      "16 17 18 19 6 \n",
      "15 24 25 20 7 \n",
      "14 23 22 21 8 \n",
      "13 12 11 10 9 \n"
     ]
    }
   ],
   "source": [
    "n=int(input())\n",
    "a = [[0 for j in range(n)] for i in range(n)]\n",
    "i=0\n",
    "h=0\n",
    "m=n\n",
    "x=0\n",
    "y=1\n",
    "while h!=m**2:\n",
    "    if h!=m**2:\n",
    "        for j in range(x,n):\n",
    "            h+=1\n",
    "            a[i][j]=h\n",
    "    if h!=m**2:\n",
    "        for i in range(y,n):\n",
    "            h+=1\n",
    "            a[i][j]=h\n",
    "    if h!=m**2:\n",
    "        for k in range(y,n):\n",
    "            h+=1\n",
    "            j-=1\n",
    "            a[i][j]=h\n",
    "        n-=1\n",
    "    if h!=m**2:\n",
    "        for o in range(y,n):\n",
    "            h+=1\n",
    "            i-=1\n",
    "            a[i][j]=h\n",
    "        x+=1\n",
    "        y+=1\n",
    "for i in range(m):\n",
    "    for j in range(m):\n",
    "        print(a[i][j],end=' ')\n",
    "    print()"
   ]
  },
  {
   "cell_type": "code",
   "execution_count": null,
   "metadata": {},
   "outputs": [],
   "source": [
    "n"
   ]
  },
  {
   "cell_type": "code",
   "execution_count": null,
   "metadata": {},
   "outputs": [],
   "source": []
  }
 ],
 "metadata": {
  "kernelspec": {
   "display_name": "Python 3",
   "language": "python",
   "name": "python3"
  },
  "language_info": {
   "codemirror_mode": {
    "name": "ipython",
    "version": 3
   },
   "file_extension": ".py",
   "mimetype": "text/x-python",
   "name": "python",
   "nbconvert_exporter": "python",
   "pygments_lexer": "ipython3",
   "version": "3.7.3"
  }
 },
 "nbformat": 4,
 "nbformat_minor": 2
}
