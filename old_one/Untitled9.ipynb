{
 "cells": [
  {
   "cell_type": "code",
   "execution_count": 23,
   "metadata": {},
   "outputs": [],
   "source": [
    "def modify_list(l):\n",
    "    for i in range(len(l),0,-1):\n",
    "        if l[i-1]%2!=0:\n",
    "            del l[i-1]\n",
    "        else:\n",
    "            l[i-1]=int(l[i-1]/2)"
   ]
  },
  {
   "cell_type": "code",
   "execution_count": 24,
   "metadata": {},
   "outputs": [
    {
     "name": "stdout",
     "output_type": "stream",
     "text": [
      "[1, 2, 3]\n"
     ]
    }
   ],
   "source": [
    "lst=[1, 2, 3, 4, 5, 6]\n",
    "modify_list(lst)\n",
    "print(lst)"
   ]
  },
  {
   "cell_type": "code",
   "execution_count": 30,
   "metadata": {},
   "outputs": [],
   "source": [
    "def update_dictionary(d, key, value):\n",
    "    if key in d:\n",
    "        d[key].append(value)\n",
    "    else:\n",
    "        if key*2 in d:\n",
    "            d[key*2].append(value)\n",
    "        else:\n",
    "            d[key*2]=[value]"
   ]
  },
  {
   "cell_type": "code",
   "execution_count": 35,
   "metadata": {},
   "outputs": [],
   "source": [
    "d={4:[1]}\n",
    "update_dictionary(d, 2, 2)"
   ]
  },
  {
   "cell_type": "code",
   "execution_count": 36,
   "metadata": {},
   "outputs": [
    {
     "data": {
      "text/plain": [
       "{4: [1, 2]}"
      ]
     },
     "execution_count": 36,
     "metadata": {},
     "output_type": "execute_result"
    }
   ],
   "source": [
    "d"
   ]
  },
  {
   "cell_type": "code",
   "execution_count": 46,
   "metadata": {},
   "outputs": [
    {
     "name": "stdout",
     "output_type": "stream",
     "text": [
      "a s w w\n"
     ]
    },
    {
     "ename": "TypeError",
     "evalue": "unhashable type: 'list'",
     "output_type": "error",
     "traceback": [
      "\u001b[1;31m---------------------------------------------------------------------------\u001b[0m",
      "\u001b[1;31mTypeError\u001b[0m                                 Traceback (most recent call last)",
      "\u001b[1;32m<ipython-input-46-2bc8ecf5592f>\u001b[0m in \u001b[0;36m<module>\u001b[1;34m\u001b[0m\n\u001b[1;32m----> 1\u001b[1;33m \u001b[0mavk\u001b[0m\u001b[1;33m=\u001b[0m\u001b[1;33m{\u001b[0m\u001b[1;33m[\u001b[0m\u001b[0minput\u001b[0m\u001b[1;33m(\u001b[0m\u001b[1;33m)\u001b[0m\u001b[1;33m.\u001b[0m\u001b[0msplit\u001b[0m\u001b[1;33m(\u001b[0m\u001b[1;33m)\u001b[0m\u001b[1;33m]\u001b[0m\u001b[1;33m}\u001b[0m\u001b[1;33m\u001b[0m\u001b[1;33m\u001b[0m\u001b[0m\n\u001b[0m\u001b[0;32m      2\u001b[0m \u001b[1;33m\u001b[0m\u001b[0m\n",
      "\u001b[1;31mTypeError\u001b[0m: unhashable type: 'list'"
     ]
    }
   ],
   "source": [
    "avk={input().split()}\n",
    "\n"
   ]
  },
  {
   "cell_type": "code",
   "execution_count": 11,
   "metadata": {},
   "outputs": [
    {
     "name": "stdout",
     "output_type": "stream",
     "text": [
      "1.5\n"
     ]
    }
   ],
   "source": [
    "i=3\n",
    "def f(x):\n",
    "   return(x/2)\n",
    "\n",
    "print(f(i))"
   ]
  },
  {
   "cell_type": "code",
   "execution_count": 1,
   "metadata": {},
   "outputs": [
    {
     "name": "stdout",
     "output_type": "stream",
     "text": [
      "aa aaaa aa aa aaaaaaa\n",
      "aa 3\n",
      "aaaaaaa 1\n",
      "aaaa 1\n"
     ]
    }
   ],
   "source": [
    "a=input().lower().split()\n",
    "for i in set(a):\n",
    "    print(i, a.count(i))"
   ]
  },
  {
   "cell_type": "code",
   "execution_count": 5,
   "metadata": {},
   "outputs": [
    {
     "name": "stdout",
     "output_type": "stream",
     "text": [
      "3\n",
      "1\n",
      "2\n",
      "1\n",
      "0.5\n",
      "1.0\n",
      "0.5\n"
     ]
    }
   ],
   "source": [
    "св"
   ]
  },
  {
   "cell_type": "code",
   "execution_count": 2,
   "metadata": {},
   "outputs": [
    {
     "name": "stdout",
     "output_type": "stream",
     "text": [
      "{1: 0.5}\n"
     ]
    }
   ],
   "source": [
    "print(d)"
   ]
  },
  {
   "cell_type": "code",
   "execution_count": 6,
   "metadata": {},
   "outputs": [
    {
     "ename": "SyntaxError",
     "evalue": "invalid syntax (<ipython-input-6-0718292f17c3>, line 1)",
     "output_type": "error",
     "traceback": [
      "\u001b[1;36m  File \u001b[1;32m\"<ipython-input-6-0718292f17c3>\"\u001b[1;36m, line \u001b[1;32m1\u001b[0m\n\u001b[1;33m    cd D:\\CODES\\python\u001b[0m\n\u001b[1;37m       ^\u001b[0m\n\u001b[1;31mSyntaxError\u001b[0m\u001b[1;31m:\u001b[0m invalid syntax\n"
     ]
    }
   ],
   "source": [
    "cd D:\\CODES\\python\n",
    "    dir"
   ]
  },
  {
   "cell_type": "code",
   "execution_count": 8,
   "metadata": {},
   "outputs": [
    {
     "name": "stdout",
     "output_type": "stream",
     "text": [
      " Volume in drive C has no label.\n",
      " Volume Serial Number is C458-21FD\n",
      "\n",
      " Directory of C:\\Users\\9dern\n",
      "\n",
      "09/30/2019  09:21 PM    <DIR>          .\n",
      "09/30/2019  09:21 PM    <DIR>          ..\n",
      "09/30/2019  12:52 AM    <DIR>          .anaconda\n",
      "11/24/2018  10:07 PM    <DIR>          .android\n",
      "12/17/2017  05:32 PM    <DIR>          .AndroidStudio3.0\n",
      "11/24/2018  10:01 PM    <DIR>          .AndroidStudio3.2\n",
      "11/29/2018  07:34 PM    <DIR>          .cfx\n",
      "09/30/2019  02:28 AM    <DIR>          .conda\n",
      "09/30/2019  12:53 AM                43 .condarc\n",
      "11/29/2018  07:35 PM             5,573 .cxlayout.ini\n",
      "08/14/2018  12:54 PM                16 .emulator_console_auth_token\n",
      "11/29/2018  07:35 PM               588 .flrecent\n",
      "09/30/2019  05:16 PM               177 .gitconfig\n",
      "09/30/2019  02:17 AM    <DIR>          .ipynb_checkpoints\n",
      "09/18/2019  07:41 PM    <DIR>          .ipython\n",
      "09/30/2019  12:59 AM    <DIR>          .jupyter\n",
      "09/30/2019  12:59 AM    <DIR>          .matplotlib\n",
      "04/25/2017  11:09 AM    <DIR>          .Origin\n",
      "09/22/2019  11:30 PM    <DIR>          .pylint.d\n",
      "04/25/2017  11:09 AM    <DIR>          .QtWebEngineProcess\n",
      "04/05/2019  08:04 PM    <DIR>          .vscode\n",
      "09/22/2019  06:28 PM             1,676 2.ipynb\n",
      "09/22/2019  06:29 PM             4,245 3.ipynb\n",
      "09/18/2019  06:11 PM    <DIR>          3D Objects\n",
      "12/29/2017  07:41 PM    <DIR>          ansel\n",
      "09/18/2019  06:11 PM    <DIR>          Contacts\n",
      "09/30/2019  05:16 PM    <DIR>          Desktop\n",
      "09/22/2019  01:11 PM    <DIR>          Documents\n",
      "09/30/2019  05:11 PM    <DIR>          Downloads\n",
      "09/18/2019  06:11 PM    <DIR>          Favorites\n",
      "11/29/2018  12:22 AM                80 file.err\n",
      "11/29/2018  12:23 AM             1,118 file.log\n",
      "10/11/2017  05:33 PM                66 inittk.ini\n",
      "10/11/2017  05:33 PM                41 inst.ini\n",
      "09/18/2019  06:11 PM    <DIR>          Links\n",
      "09/18/2019  06:11 PM    <DIR>          Music\n",
      "10/11/2017  05:33 PM    <DIR>          Nox_share\n",
      "10/11/2017  05:33 PM                45 nuuid.ini\n",
      "09/27/2019  03:05 PM    <DIR>          OneDrive\n",
      "09/18/2019  06:11 PM    <DIR>          Pictures\n",
      "09/18/2019  06:11 PM    <DIR>          Saved Games\n",
      "09/18/2019  06:11 PM    <DIR>          Searches\n",
      "08/01/2017  04:07 PM    <DIR>          Tracing\n",
      "09/24/2019  01:48 PM            10,313 Untitled.ipynb\n",
      "09/22/2019  06:00 PM             2,905 Untitled1.ipynb\n",
      "09/30/2019  02:28 AM             3,156 Untitled10.ipynb\n",
      "09/22/2019  06:05 PM             1,676 Untitled2.ipynb\n",
      "09/22/2019  06:07 PM             4,245 Untitled3.ipynb\n",
      "09/22/2019  06:28 PM             1,452 Untitled4.ipynb\n",
      "09/22/2019  09:56 PM             6,417 Untitled5.ipynb\n",
      "09/27/2019  11:43 PM            12,797 Untitled6.ipynb\n",
      "09/28/2019  12:34 AM             3,841 Untitled7.ipynb\n",
      "09/30/2019  01:06 AM            14,744 Untitled8.ipynb\n",
      "09/30/2019  09:21 PM             5,092 Untitled9.ipynb\n",
      "09/30/2019  03:33 PM    <DIR>          Videos\n",
      "12/07/2017  03:46 PM    <DIR>          vmlogs\n",
      "              23 File(s)         80,306 bytes\n",
      "              33 Dir(s)  29,788,123,136 bytes free\n"
     ]
    }
   ],
   "source": [
    "! dir"
   ]
  },
  {
   "cell_type": "code",
   "execution_count": 2,
   "metadata": {},
   "outputs": [],
   "source": [
    "import numpy as np"
   ]
  },
  {
   "cell_type": "code",
   "execution_count": 3,
   "metadata": {},
   "outputs": [
    {
     "data": {
      "text/plain": [
       "array([0, 1, 2])"
      ]
     },
     "execution_count": 3,
     "metadata": {},
     "output_type": "execute_result"
    }
   ],
   "source": [
    "np.arange(3)"
   ]
  },
  {
   "cell_type": "code",
   "execution_count": null,
   "metadata": {},
   "outputs": [],
   "source": [
    "import "
   ]
  }
 ],
 "metadata": {
  "kernelspec": {
   "display_name": "Python 3",
   "language": "python",
   "name": "python3"
  },
  "language_info": {
   "codemirror_mode": {
    "name": "ipython",
    "version": 3
   },
   "file_extension": ".py",
   "mimetype": "text/x-python",
   "name": "python",
   "nbconvert_exporter": "python",
   "pygments_lexer": "ipython3",
   "version": "3.7.3"
  }
 },
 "nbformat": 4,
 "nbformat_minor": 2
}
